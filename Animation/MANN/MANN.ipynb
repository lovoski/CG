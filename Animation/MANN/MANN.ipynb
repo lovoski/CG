{
 "cells": [
  {
   "cell_type": "code",
   "execution_count": 2,
   "metadata": {},
   "outputs": [],
   "source": [
    "import torch\n",
    "import torch.nn as nn\n",
    "import torch.nn.functional as F\n",
    "from torch.utils.data.dataset import Dataset\n",
    "from torch.utils.data.dataloader import DataLoader"
   ]
  },
  {
   "cell_type": "code",
   "execution_count": 8,
   "metadata": {},
   "outputs": [
    {
     "name": "stdout",
     "output_type": "stream",
     "text": [
      "epoch=0, loss=69.53585815429688, pred=tensor([[ 0.8394,  0.7338,  0.5545,  0.0130, -0.4347],\n",
      "        [ 1.1558,  0.9097,  0.7421,  0.0457, -0.5181]],\n",
      "       grad_fn=<AddmmBackward0>)\n",
      "epoch=100, loss=0.11977313458919525, pred=tensor([[ 5.8203,  6.7810,  7.6542,  8.5785,  9.4901],\n",
      "        [ 7.1571,  8.2027,  9.3317, 10.3707, 11.4970]],\n",
      "       grad_fn=<AddmmBackward0>)\n",
      "epoch=200, loss=0.01638520136475563, pred=tensor([[ 6.0034,  6.9616,  7.8576,  8.8297,  9.7778],\n",
      "        [ 6.9928,  8.0248,  9.1161, 10.1367, 11.1757]],\n",
      "       grad_fn=<AddmmBackward0>)\n",
      "epoch=300, loss=0.0022251070477068424, pred=tensor([[ 6.0761,  7.0487,  7.9645,  8.9699,  9.9504],\n",
      "        [ 6.9343,  7.9572,  9.0310, 10.0250, 11.0416]],\n",
      "       grad_fn=<AddmmBackward0>)\n",
      "epoch=400, loss=0.0011899531818926334, pred=tensor([[ 6.0553,  7.0440,  7.9706,  8.9889,  9.9711],\n",
      "        [ 6.9524,  7.9619,  9.0259, 10.0091, 11.0246]],\n",
      "       grad_fn=<AddmmBackward0>)\n",
      "epoch=500, loss=0.0005977341206744313, pred=tensor([[ 6.0359,  7.0330,  7.9735,  8.9970,  9.9818],\n",
      "        [ 6.9691,  7.9715,  9.0233, 10.0023, 11.0154]],\n",
      "       grad_fn=<AddmmBackward0>)\n",
      "epoch=600, loss=0.000279860949376598, pred=tensor([[ 6.0223,  7.0226,  7.9781,  9.0012,  9.9894],\n",
      "        [ 6.9808,  7.9806,  9.0192,  9.9988, 11.0090]],\n",
      "       grad_fn=<AddmmBackward0>)\n",
      "epoch=700, loss=0.00012205021630506963, pred=tensor([[ 6.0134,  7.0142,  7.9835,  9.0028,  9.9941],\n",
      "        [ 6.9884,  7.9878,  9.0144,  9.9974, 11.0050]],\n",
      "       grad_fn=<AddmmBackward0>)\n",
      "epoch=800, loss=4.9325415602652356e-05, pred=tensor([[ 6.0079,  7.0083,  7.9885,  9.0030,  9.9968],\n",
      "        [ 6.9932,  7.9929,  9.0100,  9.9973, 11.0027]],\n",
      "       grad_fn=<AddmmBackward0>)\n",
      "epoch=900, loss=1.838595198933035e-05, pred=tensor([[ 6.0046,  7.0045,  7.9926,  9.0025,  9.9982],\n",
      "        [ 6.9961,  7.9961,  9.0064,  9.9978, 11.0015]],\n",
      "       grad_fn=<AddmmBackward0>)\n"
     ]
    }
   ],
   "source": [
    "X = torch.tensor([[1, 2, 3, 4, 5], [2, 3, 4, 5, 6]], dtype=torch.float32)\n",
    "Y = torch.tensor([[6, 7, 8, 9, 10], [7, 8, 9, 10, 11]], dtype=torch.float32)\n",
    "\n",
    "class SimpleMLP(nn.Module):\n",
    "  def __init__(self, input_size, hidden_size, output_size):\n",
    "    super(SimpleMLP, self).__init__()\n",
    "    self.input_size = input_size\n",
    "    self.hidden_size = hidden_size\n",
    "    self.ouput_size = output_size\n",
    "    self.activation = nn.ELU()\n",
    "    self.first_layer = nn.Linear(input_size, hidden_size)\n",
    "    self.second_layer = nn.Linear(hidden_size, hidden_size)\n",
    "    self.third_layer = nn.Linear(hidden_size, output_size)\n",
    "\n",
    "  def forward(self, X):\n",
    "    H1 = self.first_layer(X)\n",
    "    H2 = self.second_layer(self.activation(H1))\n",
    "    return self.third_layer(H2)\n",
    "\n",
    "loss = nn.MSELoss()\n",
    "net = SimpleMLP(5, 10, 5)\n",
    "trainer = torch.optim.Adam(net.parameters(), 1e-2)\n",
    "\n",
    "for epoch in range(1000):\n",
    "  trainer.zero_grad()\n",
    "  pred = net(X)\n",
    "  l = loss(pred, Y)\n",
    "  l.backward()\n",
    "  trainer.step()\n",
    "  if (epoch % 100 == 0):\n",
    "    print(f'epoch={epoch}, loss={l.item()}, pred={pred}')"
   ]
  }
 ],
 "metadata": {
  "kernelspec": {
   "display_name": "base",
   "language": "python",
   "name": "python3"
  },
  "language_info": {
   "codemirror_mode": {
    "name": "ipython",
    "version": 3
   },
   "file_extension": ".py",
   "mimetype": "text/x-python",
   "name": "python",
   "nbconvert_exporter": "python",
   "pygments_lexer": "ipython3",
   "version": "3.11.5"
  }
 },
 "nbformat": 4,
 "nbformat_minor": 2
}
