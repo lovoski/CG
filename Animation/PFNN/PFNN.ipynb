{
 "cells": [
  {
   "cell_type": "code",
   "execution_count": 1,
   "metadata": {},
   "outputs": [],
   "source": [
    "import torch\n",
    "import torch.nn as nn\n",
    "import torch.nn.functional as F\n",
    "from torch.utils.data.dataset import Dataset\n",
    "from torch.utils.data.dataloader import DataLoader"
   ]
  },
  {
   "cell_type": "code",
   "execution_count": 27,
   "metadata": {},
   "outputs": [
    {
     "data": {
      "text/plain": [
       "3"
      ]
     },
     "execution_count": 27,
     "metadata": {},
     "output_type": "execute_result"
    }
   ],
   "source": [
    "X = torch.tensor([[1, 2], [4, 5]])\n",
    "p = torch.tensor([1, 0])\n",
    "W = torch.tensor([[[1, 1], [1, 1]], [[2, 2], [2, 2]]])\n",
    "\n",
    "def func(X : torch.Tensor, p : torch.Tensor):\n",
    "  return torch.bmm(W[p], X[p].reshape((2, 2, 1)))\n",
    "\n",
    "# func(X, p)\n",
    "# X[p].reshape((2, 2, 1))\n",
    "# W[p].shape, X[p].reshape((2, 2, 1)).shape"
   ]
  }
 ],
 "metadata": {
  "kernelspec": {
   "display_name": "base",
   "language": "python",
   "name": "python3"
  },
  "language_info": {
   "codemirror_mode": {
    "name": "ipython",
    "version": 3
   },
   "file_extension": ".py",
   "mimetype": "text/x-python",
   "name": "python",
   "nbconvert_exporter": "python",
   "pygments_lexer": "ipython3",
   "version": "3.11.5"
  }
 },
 "nbformat": 4,
 "nbformat_minor": 2
}
